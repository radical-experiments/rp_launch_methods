{
 "cells": [
  {
   "cell_type": "code",
   "execution_count": 31,
   "metadata": {},
   "outputs": [
    {
     "data": {
      "text/html": [
       "<style>.container { width:100% !important; }</style>"
      ],
      "text/plain": [
       "<IPython.core.display.HTML object>"
      ]
     },
     "metadata": {},
     "output_type": "display_data"
    }
   ],
   "source": [
    "%matplotlib inline\n",
    "%run 'bin/notebook_utils.py'"
   ]
  },
  {
   "cell_type": "code",
   "execution_count": 32,
   "metadata": {},
   "outputs": [],
   "source": [
    "# Load wrangled data saved in .csv files for both synapse, microbenchmarks and gromacs.\n",
    "sws_sessions = pd.read_csv('data/sessions.csv', index_col=0)\n",
    "sws_pilots = pd.read_csv('data/pilots.csv', index_col=0)\n",
    "sws_units = pd.read_csv('data/units.csv', index_col=0)\n",
    "\n"
   ]
  },
  {
   "cell_type": "code",
   "execution_count": null,
   "metadata": {},
   "outputs": [],
   "source": [
    "# Load wrangled data saved in .csv files for both orte, mpi-exec.\n",
    "sws_sessions = pd.read_csv('data/sessions.csv', index_col=0)\n",
    "sws_pilots = pd.read_csv('data/pilots.csv', index_col=0)\n",
    "sws_units = pd.read_csv('data/units.csv', index_col=0)\n"
   ]
  },
  {
   "cell_type": "code",
   "execution_count": 33,
   "metadata": {},
   "outputs": [
    {
     "data": {
      "text/html": [
       "<div>\n",
       "<style scoped>\n",
       "    .dataframe tbody tr th:only-of-type {\n",
       "        vertical-align: middle;\n",
       "    }\n",
       "\n",
       "    .dataframe tbody tr th {\n",
       "        vertical-align: top;\n",
       "    }\n",
       "\n",
       "    .dataframe thead tr th {\n",
       "        text-align: left;\n",
       "    }\n",
       "\n",
       "    .dataframe thead tr:last-of-type th {\n",
       "        text-align: right;\n",
       "    }\n",
       "</style>\n",
       "<table border=\"1\" class=\"dataframe\">\n",
       "  <thead>\n",
       "    <tr>\n",
       "      <th></th>\n",
       "      <th colspan=\"2\" halign=\"left\">TTQ</th>\n",
       "      <th colspan=\"2\" halign=\"left\">Agent queueing</th>\n",
       "      <th colspan=\"2\" halign=\"left\">Agent queueing execution</th>\n",
       "      <th colspan=\"2\" halign=\"left\">TTX</th>\n",
       "      <th colspan=\"2\" halign=\"left\">TTC</th>\n",
       "      <th colspan=\"2\" halign=\"left\">Agent scheduling</th>\n",
       "    </tr>\n",
       "    <tr>\n",
       "      <th></th>\n",
       "      <th>mean</th>\n",
       "      <th>std</th>\n",
       "      <th>mean</th>\n",
       "      <th>std</th>\n",
       "      <th>mean</th>\n",
       "      <th>std</th>\n",
       "      <th>mean</th>\n",
       "      <th>std</th>\n",
       "      <th>mean</th>\n",
       "      <th>std</th>\n",
       "      <th>mean</th>\n",
       "      <th>std</th>\n",
       "    </tr>\n",
       "    <tr>\n",
       "      <th>nunit</th>\n",
       "      <th></th>\n",
       "      <th></th>\n",
       "      <th></th>\n",
       "      <th></th>\n",
       "      <th></th>\n",
       "      <th></th>\n",
       "      <th></th>\n",
       "      <th></th>\n",
       "      <th></th>\n",
       "      <th></th>\n",
       "      <th></th>\n",
       "      <th></th>\n",
       "    </tr>\n",
       "  </thead>\n",
       "  <tbody>\n",
       "    <tr>\n",
       "      <th>20/640</th>\n",
       "      <td>130.599433</td>\n",
       "      <td>163.486533</td>\n",
       "      <td>0.004467</td>\n",
       "      <td>0.000153</td>\n",
       "      <td>0.186167</td>\n",
       "      <td>0.005750</td>\n",
       "      <td>720.712433</td>\n",
       "      <td>0.010858</td>\n",
       "      <td>890.553733</td>\n",
       "      <td>163.555456</td>\n",
       "      <td>0.026233</td>\n",
       "      <td>0.000058</td>\n",
       "    </tr>\n",
       "    <tr>\n",
       "      <th>40/1280</th>\n",
       "      <td>167.550767</td>\n",
       "      <td>212.022059</td>\n",
       "      <td>0.008833</td>\n",
       "      <td>0.001965</td>\n",
       "      <td>0.364900</td>\n",
       "      <td>0.042873</td>\n",
       "      <td>724.641400</td>\n",
       "      <td>5.978088</td>\n",
       "      <td>930.216200</td>\n",
       "      <td>208.035312</td>\n",
       "      <td>0.051800</td>\n",
       "      <td>0.002007</td>\n",
       "    </tr>\n",
       "    <tr>\n",
       "      <th>80/2560</th>\n",
       "      <td>125.839700</td>\n",
       "      <td>130.571010</td>\n",
       "      <td>0.028100</td>\n",
       "      <td>0.012366</td>\n",
       "      <td>0.561800</td>\n",
       "      <td>0.213833</td>\n",
       "      <td>757.205000</td>\n",
       "      <td>30.728219</td>\n",
       "      <td>920.884133</td>\n",
       "      <td>100.083869</td>\n",
       "      <td>0.101767</td>\n",
       "      <td>0.007184</td>\n",
       "    </tr>\n",
       "  </tbody>\n",
       "</table>\n",
       "</div>"
      ],
      "text/plain": [
       "                TTQ             Agent queueing           Agent queueing execution                   TTX                    TTC             Agent scheduling          \n",
       "               mean         std           mean       std                     mean       std        mean        std        mean         std             mean       std\n",
       "nunit                                                                                                                                                                \n",
       "20/640   130.599433  163.486533       0.004467  0.000153                 0.186167  0.005750  720.712433   0.010858  890.553733  163.555456         0.026233  0.000058\n",
       "40/1280  167.550767  212.022059       0.008833  0.001965                 0.364900  0.042873  724.641400   5.978088  930.216200  208.035312         0.051800  0.002007\n",
       "80/2560  125.839700  130.571010       0.028100  0.012366                 0.561800  0.213833  757.205000  30.728219  920.884133  100.083869         0.101767  0.007184"
      ]
     },
     "execution_count": 33,
     "metadata": {},
     "output_type": "execute_result"
    }
   ],
   "source": [
    "sws = sws_sessions[\n",
    "    ['nunit','TTC','P_LRMS_QUEUING','U_AGENT_QUEUING','U_AGENT_SCHEDULING','U_AGENT_QUEUING_EXEC','U_AGENT_EXECUTING']\n",
    "        ].groupby(['nunit']).aggregate(\n",
    "                {'TTC'                 : ['mean','std'],\n",
    "                 'P_LRMS_QUEUING'      : ['mean','std'],\n",
    "                 'U_AGENT_QUEUING'     : ['mean','std'],\n",
    "                 'U_AGENT_SCHEDULING'  : ['mean','std'],\n",
    "                 'U_AGENT_QUEUING_EXEC': ['mean','std'],\n",
    "                 'U_AGENT_EXECUTING'   : ['mean','std']})\n",
    "\n",
    "sws.rename({'P_LRMS_QUEUING'      :'TTQ'}, axis='columns', inplace=True)\n",
    "sws.rename({'U_AGENT_QUEUING'     :'Agent queueing'}, axis='columns', inplace=True)\n",
    "sws.rename({'U_AGENT_SCHEDULING'  :'Agent scheduling'}, axis='columns', inplace=True)\n",
    "sws.rename({'U_AGENT_QUEUING_EXEC':'Agent queueing execution'}, axis='columns', inplace=True)\n",
    "sws.rename({'U_AGENT_EXECUTING'   :'TTX'}, axis='columns', inplace=True)\n",
    "sws.rename(index={i: '%s/%s' % (i, i*32) for i in sws.index.get_values()}, inplace=True)\n",
    "sws"
   ]
  },
  {
   "cell_type": "code",
   "execution_count": 42,
   "metadata": {},
   "outputs": [
    {
     "data": {
      "text/plain": [
       "array(['AGENT_EXECUTING', 'AGENT_EXECUTING_PENDING', 'AGENT_SCHEDULING',\n",
       "       'AGENT_SCHEDULING_PENDING', 'AGENT_STAGING_INPUT',\n",
       "       'AGENT_STAGING_INPUT_PENDING', 'AGENT_STAGING_OUTPUT',\n",
       "       'AGENT_STAGING_OUTPUT_PENDING', 'CANCELED', 'DONE', 'FAILED',\n",
       "       'NEW', 'UMGR_SCHEDULING', 'UMGR_SCHEDULING_PENDING',\n",
       "       'UMGR_STAGING_INPUT', 'UMGR_STAGING_INPUT_PENDING',\n",
       "       'UMGR_STAGING_OUTPUT', 'UMGR_STAGING_OUTPUT_PENDING',\n",
       "       'U_AGENT_EXECUTING', 'U_AGENT_QUEUING', 'U_AGENT_QUEUING_EXEC',\n",
       "       'U_AGENT_SCHEDULING', 'U_UMGR_BINDING', 'U_UMGR_SCHEDULING',\n",
       "       'experiment', 'hid', 'pid', 'sid', 'uid', 'util_u_eprep',\n",
       "       'util_u_equeue', 'util_u_exec_app', 'util_u_exec_cu',\n",
       "       'util_u_exec_orte', 'util_u_exec_rp', 'util_u_total',\n",
       "       'util_u_unschedule'], dtype=object)"
      ]
     },
     "execution_count": 42,
     "metadata": {},
     "output_type": "execute_result"
    }
   ],
   "source": [
    "sws_units.columns.values"
   ]
  },
  {
   "cell_type": "code",
   "execution_count": 44,
   "metadata": {},
   "outputs": [
    {
     "data": {
      "text/plain": [
       "array(['CANCELED', 'DONE', 'FAILED', 'NEW', 'PMGR_ACTIVE',\n",
       "       'PMGR_ACTIVE_PENDING', 'PMGR_LAUNCHING', 'PMGR_LAUNCHING_PENDING',\n",
       "       'P_LRMS_QUEUING', 'P_LRMS_RUNNING', 'P_LRMS_SUBMITTING',\n",
       "       'P_PMGR_QUEUING', 'P_PMGR_SCHEDULING', 'experiment', 'hid',\n",
       "       'ncore', 'nunit', 'pid', 'sid', 'util_p_boot', 'util_p_orte',\n",
       "       'util_p_setup_1', 'util_p_setup_2', 'util_p_term', 'util_p_total',\n",
       "       'util_p_uexec'], dtype=object)"
      ]
     },
     "execution_count": 44,
     "metadata": {},
     "output_type": "execute_result"
    }
   ],
   "source": [
    "sws_pilots.columns.values"
   ]
  },
  {
   "cell_type": "code",
   "execution_count": 45,
   "metadata": {},
   "outputs": [
    {
     "data": {
      "text/plain": [
       "array(['CANCELED', 'DONE', 'FAILED', 'NEW', 'PMGR_ACTIVE',\n",
       "       'PMGR_ACTIVE_PENDING', 'PMGR_LAUNCHING', 'PMGR_LAUNCHING_PENDING',\n",
       "       'P_LRMS_QUEUING', 'P_LRMS_RUNNING', 'P_LRMS_SUBMITTING',\n",
       "       'P_PMGR_QUEUING', 'P_PMGR_SCHEDULING', 'experiment', 'hid',\n",
       "       'ncore', 'nunit', 'pid', 'sid', 'util_p_boot', 'util_p_orte',\n",
       "       'util_p_setup_1', 'util_p_setup_2', 'util_p_term', 'util_p_total',\n",
       "       'util_p_uexec'], dtype=object)"
      ]
     },
     "execution_count": 45,
     "metadata": {},
     "output_type": "execute_result"
    }
   ],
   "source": [
    "sws_pilots.columns.values"
   ]
  },
  {
   "cell_type": "code",
   "execution_count": 34,
   "metadata": {},
   "outputs": [
    {
     "name": "stdout",
     "output_type": "stream",
     "text": [
      "WARNING: profile \"data/exp-orte-weak-scaling/rp.session.one.george.017617.0007/pilot.0000/agent_0.prof\" not correctly closed.\n",
      "WARNING: profile \"data/exp-orte-weak-scaling/rp.session.one.george.017617.0004/pmgr.0000.launching.0.child.prof\" not correctly closed.\n"
     ]
    }
   ],
   "source": [
    "# Load sessions for orte  experiment weak scaling\n",
    "ws_sras = load_sessions_units('data', \n",
    "                     sws_sessions, \n",
    "                     sorted(sws_sessions.nunit.unique().tolist()))"
   ]
  },
  {
   "cell_type": "code",
   "execution_count": 53,
   "metadata": {},
   "outputs": [
    {
     "ename": "KeyError",
     "evalue": "'exec_ok'",
     "output_type": "error",
     "traceback": [
      "\u001b[0;31m---------------------------------------------------------------------------\u001b[0m",
      "\u001b[0;31mKeyError\u001b[0m                                  Traceback (most recent call last)",
      "\u001b[0;32m<ipython-input-53-4ac04ea8a74c>\u001b[0m in \u001b[0;36m<module>\u001b[0;34m()\u001b[0m\n\u001b[1;32m     31\u001b[0m \u001b[0;34m\u001b[0m\u001b[0m\n\u001b[1;32m     32\u001b[0m     \u001b[0;31m## weak scaling experiments\u001b[0m\u001b[0;34m\u001b[0m\u001b[0;34m\u001b[0m\u001b[0m\n\u001b[0;32m---> 33\u001b[0;31m     \u001b[0md_time_to_accept_exec\u001b[0m \u001b[0;34m=\u001b[0m \u001b[0mdf\u001b[0m\u001b[0;34m[\u001b[0m\u001b[0;34m'exec_ok'\u001b[0m\u001b[0;34m]\u001b[0m   \u001b[0;34m-\u001b[0m \u001b[0mdf\u001b[0m\u001b[0;34m[\u001b[0m\u001b[0;34m'exec_start'\u001b[0m\u001b[0;34m]\u001b[0m\u001b[0;34m\u001b[0m\u001b[0m\n\u001b[0m\u001b[1;32m     34\u001b[0m \u001b[0;34m\u001b[0m\u001b[0m\n\u001b[1;32m     35\u001b[0m     \u001b[0md_time_to_launch_app_start\u001b[0m \u001b[0;34m=\u001b[0m \u001b[0mdf\u001b[0m\u001b[0;34m[\u001b[0m\u001b[0;34m'cu_exec_start'\u001b[0m\u001b[0;34m]\u001b[0m \u001b[0;34m-\u001b[0m \u001b[0mdf\u001b[0m\u001b[0;34m[\u001b[0m\u001b[0;34m'app_start'\u001b[0m\u001b[0;34m]\u001b[0m\u001b[0;34m\u001b[0m\u001b[0m\n",
      "\u001b[0;32m/home/george/ve-matteo/local/lib/python2.7/site-packages/pandas/core/frame.pyc\u001b[0m in \u001b[0;36m__getitem__\u001b[0;34m(self, key)\u001b[0m\n\u001b[1;32m   2137\u001b[0m             \u001b[0;32mreturn\u001b[0m \u001b[0mself\u001b[0m\u001b[0;34m.\u001b[0m\u001b[0m_getitem_multilevel\u001b[0m\u001b[0;34m(\u001b[0m\u001b[0mkey\u001b[0m\u001b[0;34m)\u001b[0m\u001b[0;34m\u001b[0m\u001b[0m\n\u001b[1;32m   2138\u001b[0m         \u001b[0;32melse\u001b[0m\u001b[0;34m:\u001b[0m\u001b[0;34m\u001b[0m\u001b[0m\n\u001b[0;32m-> 2139\u001b[0;31m             \u001b[0;32mreturn\u001b[0m \u001b[0mself\u001b[0m\u001b[0;34m.\u001b[0m\u001b[0m_getitem_column\u001b[0m\u001b[0;34m(\u001b[0m\u001b[0mkey\u001b[0m\u001b[0;34m)\u001b[0m\u001b[0;34m\u001b[0m\u001b[0m\n\u001b[0m\u001b[1;32m   2140\u001b[0m \u001b[0;34m\u001b[0m\u001b[0m\n\u001b[1;32m   2141\u001b[0m     \u001b[0;32mdef\u001b[0m \u001b[0m_getitem_column\u001b[0m\u001b[0;34m(\u001b[0m\u001b[0mself\u001b[0m\u001b[0;34m,\u001b[0m \u001b[0mkey\u001b[0m\u001b[0;34m)\u001b[0m\u001b[0;34m:\u001b[0m\u001b[0;34m\u001b[0m\u001b[0m\n",
      "\u001b[0;32m/home/george/ve-matteo/local/lib/python2.7/site-packages/pandas/core/frame.pyc\u001b[0m in \u001b[0;36m_getitem_column\u001b[0;34m(self, key)\u001b[0m\n\u001b[1;32m   2144\u001b[0m         \u001b[0;31m# get column\u001b[0m\u001b[0;34m\u001b[0m\u001b[0;34m\u001b[0m\u001b[0m\n\u001b[1;32m   2145\u001b[0m         \u001b[0;32mif\u001b[0m \u001b[0mself\u001b[0m\u001b[0;34m.\u001b[0m\u001b[0mcolumns\u001b[0m\u001b[0;34m.\u001b[0m\u001b[0mis_unique\u001b[0m\u001b[0;34m:\u001b[0m\u001b[0;34m\u001b[0m\u001b[0m\n\u001b[0;32m-> 2146\u001b[0;31m             \u001b[0;32mreturn\u001b[0m \u001b[0mself\u001b[0m\u001b[0;34m.\u001b[0m\u001b[0m_get_item_cache\u001b[0m\u001b[0;34m(\u001b[0m\u001b[0mkey\u001b[0m\u001b[0;34m)\u001b[0m\u001b[0;34m\u001b[0m\u001b[0m\n\u001b[0m\u001b[1;32m   2147\u001b[0m \u001b[0;34m\u001b[0m\u001b[0m\n\u001b[1;32m   2148\u001b[0m         \u001b[0;31m# duplicate columns & possible reduce dimensionality\u001b[0m\u001b[0;34m\u001b[0m\u001b[0;34m\u001b[0m\u001b[0m\n",
      "\u001b[0;32m/home/george/ve-matteo/local/lib/python2.7/site-packages/pandas/core/generic.pyc\u001b[0m in \u001b[0;36m_get_item_cache\u001b[0;34m(self, item)\u001b[0m\n\u001b[1;32m   1840\u001b[0m         \u001b[0mres\u001b[0m \u001b[0;34m=\u001b[0m \u001b[0mcache\u001b[0m\u001b[0;34m.\u001b[0m\u001b[0mget\u001b[0m\u001b[0;34m(\u001b[0m\u001b[0mitem\u001b[0m\u001b[0;34m)\u001b[0m\u001b[0;34m\u001b[0m\u001b[0m\n\u001b[1;32m   1841\u001b[0m         \u001b[0;32mif\u001b[0m \u001b[0mres\u001b[0m \u001b[0;32mis\u001b[0m \u001b[0mNone\u001b[0m\u001b[0;34m:\u001b[0m\u001b[0;34m\u001b[0m\u001b[0m\n\u001b[0;32m-> 1842\u001b[0;31m             \u001b[0mvalues\u001b[0m \u001b[0;34m=\u001b[0m \u001b[0mself\u001b[0m\u001b[0;34m.\u001b[0m\u001b[0m_data\u001b[0m\u001b[0;34m.\u001b[0m\u001b[0mget\u001b[0m\u001b[0;34m(\u001b[0m\u001b[0mitem\u001b[0m\u001b[0;34m)\u001b[0m\u001b[0;34m\u001b[0m\u001b[0m\n\u001b[0m\u001b[1;32m   1843\u001b[0m             \u001b[0mres\u001b[0m \u001b[0;34m=\u001b[0m \u001b[0mself\u001b[0m\u001b[0;34m.\u001b[0m\u001b[0m_box_item_values\u001b[0m\u001b[0;34m(\u001b[0m\u001b[0mitem\u001b[0m\u001b[0;34m,\u001b[0m \u001b[0mvalues\u001b[0m\u001b[0;34m)\u001b[0m\u001b[0;34m\u001b[0m\u001b[0m\n\u001b[1;32m   1844\u001b[0m             \u001b[0mcache\u001b[0m\u001b[0;34m[\u001b[0m\u001b[0mitem\u001b[0m\u001b[0;34m]\u001b[0m \u001b[0;34m=\u001b[0m \u001b[0mres\u001b[0m\u001b[0;34m\u001b[0m\u001b[0m\n",
      "\u001b[0;32m/home/george/ve-matteo/local/lib/python2.7/site-packages/pandas/core/internals.pyc\u001b[0m in \u001b[0;36mget\u001b[0;34m(self, item, fastpath)\u001b[0m\n\u001b[1;32m   3841\u001b[0m \u001b[0;34m\u001b[0m\u001b[0m\n\u001b[1;32m   3842\u001b[0m             \u001b[0;32mif\u001b[0m \u001b[0;32mnot\u001b[0m \u001b[0misna\u001b[0m\u001b[0;34m(\u001b[0m\u001b[0mitem\u001b[0m\u001b[0;34m)\u001b[0m\u001b[0;34m:\u001b[0m\u001b[0;34m\u001b[0m\u001b[0m\n\u001b[0;32m-> 3843\u001b[0;31m                 \u001b[0mloc\u001b[0m \u001b[0;34m=\u001b[0m \u001b[0mself\u001b[0m\u001b[0;34m.\u001b[0m\u001b[0mitems\u001b[0m\u001b[0;34m.\u001b[0m\u001b[0mget_loc\u001b[0m\u001b[0;34m(\u001b[0m\u001b[0mitem\u001b[0m\u001b[0;34m)\u001b[0m\u001b[0;34m\u001b[0m\u001b[0m\n\u001b[0m\u001b[1;32m   3844\u001b[0m             \u001b[0;32melse\u001b[0m\u001b[0;34m:\u001b[0m\u001b[0;34m\u001b[0m\u001b[0m\n\u001b[1;32m   3845\u001b[0m                 \u001b[0mindexer\u001b[0m \u001b[0;34m=\u001b[0m \u001b[0mnp\u001b[0m\u001b[0;34m.\u001b[0m\u001b[0marange\u001b[0m\u001b[0;34m(\u001b[0m\u001b[0mlen\u001b[0m\u001b[0;34m(\u001b[0m\u001b[0mself\u001b[0m\u001b[0;34m.\u001b[0m\u001b[0mitems\u001b[0m\u001b[0;34m)\u001b[0m\u001b[0;34m)\u001b[0m\u001b[0;34m[\u001b[0m\u001b[0misna\u001b[0m\u001b[0;34m(\u001b[0m\u001b[0mself\u001b[0m\u001b[0;34m.\u001b[0m\u001b[0mitems\u001b[0m\u001b[0;34m)\u001b[0m\u001b[0;34m]\u001b[0m\u001b[0;34m\u001b[0m\u001b[0m\n",
      "\u001b[0;32m/home/george/ve-matteo/local/lib/python2.7/site-packages/pandas/core/indexes/base.pyc\u001b[0m in \u001b[0;36mget_loc\u001b[0;34m(self, key, method, tolerance)\u001b[0m\n\u001b[1;32m   2525\u001b[0m                 \u001b[0;32mreturn\u001b[0m \u001b[0mself\u001b[0m\u001b[0;34m.\u001b[0m\u001b[0m_engine\u001b[0m\u001b[0;34m.\u001b[0m\u001b[0mget_loc\u001b[0m\u001b[0;34m(\u001b[0m\u001b[0mkey\u001b[0m\u001b[0;34m)\u001b[0m\u001b[0;34m\u001b[0m\u001b[0m\n\u001b[1;32m   2526\u001b[0m             \u001b[0;32mexcept\u001b[0m \u001b[0mKeyError\u001b[0m\u001b[0;34m:\u001b[0m\u001b[0;34m\u001b[0m\u001b[0m\n\u001b[0;32m-> 2527\u001b[0;31m                 \u001b[0;32mreturn\u001b[0m \u001b[0mself\u001b[0m\u001b[0;34m.\u001b[0m\u001b[0m_engine\u001b[0m\u001b[0;34m.\u001b[0m\u001b[0mget_loc\u001b[0m\u001b[0;34m(\u001b[0m\u001b[0mself\u001b[0m\u001b[0;34m.\u001b[0m\u001b[0m_maybe_cast_indexer\u001b[0m\u001b[0;34m(\u001b[0m\u001b[0mkey\u001b[0m\u001b[0;34m)\u001b[0m\u001b[0;34m)\u001b[0m\u001b[0;34m\u001b[0m\u001b[0m\n\u001b[0m\u001b[1;32m   2528\u001b[0m \u001b[0;34m\u001b[0m\u001b[0m\n\u001b[1;32m   2529\u001b[0m         \u001b[0mindexer\u001b[0m \u001b[0;34m=\u001b[0m \u001b[0mself\u001b[0m\u001b[0;34m.\u001b[0m\u001b[0mget_indexer\u001b[0m\u001b[0;34m(\u001b[0m\u001b[0;34m[\u001b[0m\u001b[0mkey\u001b[0m\u001b[0;34m]\u001b[0m\u001b[0;34m,\u001b[0m \u001b[0mmethod\u001b[0m\u001b[0;34m=\u001b[0m\u001b[0mmethod\u001b[0m\u001b[0;34m,\u001b[0m \u001b[0mtolerance\u001b[0m\u001b[0;34m=\u001b[0m\u001b[0mtolerance\u001b[0m\u001b[0;34m)\u001b[0m\u001b[0;34m\u001b[0m\u001b[0m\n",
      "\u001b[0;32mpandas/_libs/index.pyx\u001b[0m in \u001b[0;36mpandas._libs.index.IndexEngine.get_loc\u001b[0;34m()\u001b[0m\n",
      "\u001b[0;32mpandas/_libs/index.pyx\u001b[0m in \u001b[0;36mpandas._libs.index.IndexEngine.get_loc\u001b[0;34m()\u001b[0m\n",
      "\u001b[0;32mpandas/_libs/hashtable_class_helper.pxi\u001b[0m in \u001b[0;36mpandas._libs.hashtable.PyObjectHashTable.get_item\u001b[0;34m()\u001b[0m\n",
      "\u001b[0;32mpandas/_libs/hashtable_class_helper.pxi\u001b[0m in \u001b[0;36mpandas._libs.hashtable.PyObjectHashTable.get_item\u001b[0;34m()\u001b[0m\n",
      "\u001b[0;31mKeyError\u001b[0m: 'exec_ok'"
     ]
    },
    {
     "data": {
      "image/png": "[encoded data removed]",
      "text/plain": [
       "<Figure size 1872x288 with 9 Axes>"
      ]
     },
     "metadata": {},
     "output_type": "display_data"
    }
   ],
   "source": [
    "nunits = [20,20,20,40,40,40,80,80,80]  #experiments\n",
    "fwidth = 26\n",
    "fhight = 4\n",
    "fig, axarr = plt.subplots(1, len(nunits), sharex='col', figsize=(fwidth,fhight))#, sharey='row')\n",
    "\n",
    "i = 0\n",
    "j = 'a'\n",
    "for nunit in nunits:\n",
    "    session  = ws_sras[nunit][0]\n",
    "\n",
    "    # Get events and order them by Scheduling\n",
    "    df = get_df_unit_events(session)\n",
    "    df = df.sort_values(by='Scheduler Queues CU')\n",
    "    df = df.reset_index(drop=True)\n",
    "    #df = df[['Scheduler Starts Schedule' , \n",
    "    #         'CU Spawns Executable'      , \n",
    "    #         'Executable Starts']]\n",
    "    df = df.dropna(axis=1, how='all')\n",
    "    #df = df.sub(df['Scheduler Starts Schedule'][0])\n",
    "\n",
    "    # Set axes properties\n",
    "    #ax = axarr[i]\n",
    "    #ax.spines[\"top\"].set_visible(False)  \n",
    "    #ax.spines[\"right\"].set_visible(False)  \n",
    "    #ax.get_xaxis().tick_bottom()  \n",
    "    #ax.get_yaxis().tick_left()\n",
    "    #ax.title.set_text('%s/%s Task/Core' % (nunit, nunit*32))\n",
    "\n",
    "    # Plot data\n",
    "    #d = df['Executable Starts']-df['CU Spawns Executable']\n",
    "    \n",
    "    ## weak scaling experiments\n",
    "    d_time_to_accept_exec = df['exec_ok']   - df['exec_start']  ## ticket\n",
    "    \n",
    "    d_time_to_launch_app_start = df['cu_exec_start'] - df['app_start']  ## good\n",
    "    \n",
    "    d_app_stop_to_launch_method = df['cu_exec_stop']  - df['app_stop']  ##  good\n",
    "    \n",
    "    df_time_to_take_control_back = df['exec_stop']  - df['cu_exec_stop']  ## ticket\n",
    "    \n",
    "      \n",
    "    #data_mean = np.mean(d.tolist())\n",
    "    #data_sigma = np.sqrt(np.var(d.tolist()))\n",
    "    \n",
    "    #display('Mean %s/%s tasks/cores: %s (s%s)' % (nunit, nunit*1, data_mean, data_sigma))\n",
    "\n",
    "    #ax.hist(d.tolist(), bins=50, color=tableau20[16]) #, histtype='step')\n",
    "    #ax.axvline(x=data_mean, color='black', linestyle='dashed')\n",
    "    #ax.axvspan(data_mean-data_sigma, data_mean+data_sigma, alpha=0.25, color=tableau20[16])\n",
    "\n",
    "    # Add subfigure label and increment counters\n",
    "    #ax.set_xlabel('(%s)' % j, labelpad=45)\n",
    "    #i = i+1\n",
    "    #j = chr(ord(j) + 1)\n",
    "\n",
    "# Add common axes lables\n",
    "#fig.text(0.085, 0.5, 'Number of Tasks', va='center', rotation='vertical', fontsize=24)\n",
    "#fig.text(0.5, -0.08, 'Time (s)', ha='center', fontsize=24)\n",
    "    \n",
    "# Add common legend with f* proxy artists (https://matplotlib.org/users/legend_guide.html)\n",
    "#fig.legend((\n",
    "#                mpl.lines.Line2D([], [], color=tableau20[16]),\n",
    "#                mpl.lines.Line2D([], [], color='black', linestyle='dashed'),\n",
    "#                mpl.lines.Line2D([], [], color=tableau20[16], alpha=0.25)\n",
    "#           ),\n",
    "#           (\n",
    "#                'Orte Start Overhead',\n",
    "#                'Mean',\n",
    "#                '$\\sigma$',\n",
    "#                \n",
    "#           ), \n",
    "#           'upper center',\n",
    "#           bbox_to_anchor=(0.44, 1.4),\n",
    "#           fontsize=20,\n",
    "#           ncol=6)\n",
    "\n",
    "##plt.savefig('figures/titan_synapse_strong_scaling_orte_spawning.pdf', dpi=300, bbox_inches='tight')\n",
    "\n"
   ]
  },
  {
   "cell_type": "code",
   "execution_count": null,
   "metadata": {},
   "outputs": [],
   "source": []
  }
 ],
 "metadata": {
  "kernelspec": {
   "display_name": "Python 2",
   "language": "python",
   "name": "python2"
  },
  "language_info": {
   "codemirror_mode": {
    "name": "ipython",
    "version": 2
   },
   "file_extension": ".py",
   "mimetype": "text/x-python",
   "name": "python",
   "nbconvert_exporter": "python",
   "pygments_lexer": "ipython2",
   "version": "2.7.14"
  }
 },
 "nbformat": 4,
 "nbformat_minor": 2
}
